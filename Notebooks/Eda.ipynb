{
 "cells": [
  {
   "cell_type": "code",
   "execution_count": null,
   "id": "687a6d87-6b0d-477a-ae46-61bb215de27e",
   "metadata": {},
   "outputs": [],
   "source": [
    "import numpy as np\n",
    "import pandas as pd\n",
    "import matplotlib.pyplot as plt\n",
    "from os.path import exists\n",
    "import json\n",
    "import seaborn as sb\n",
    "\"\"\"\n",
    "import sys\n",
    "sys.path.insert(0, \"../src/\")\n",
    "import util as util\n",
    "\"\"\"\n",
    "%autosave 5"
   ]
  },
  {
   "cell_type": "code",
   "execution_count": null,
   "id": "924bc7fc-253f-4a8b-a0cb-a896b517c58d",
   "metadata": {},
   "outputs": [],
   "source": [
    "df = pd.read_csv(\"../Data/ACME-HappinessSurvey2020.csv\")\n",
    "df.head(5)"
   ]
  },
  {
   "cell_type": "code",
   "execution_count": null,
   "id": "ebcb5155-ed2d-4ca1-8313-7528cf7f6e1e",
   "metadata": {},
   "outputs": [],
   "source": [
    "df.corr()"
   ]
  },
  {
   "cell_type": "code",
   "execution_count": null,
   "id": "ed8ff0de-a874-4168-a786-3b0fef1bfaef",
   "metadata": {},
   "outputs": [],
   "source": [
    "dataplot = sb.heatmap(df.corr(),vmin=-1, cmap=\"coolwarm\", annot=True)\n",
    "plt.show()"
   ]
  },
  {
   "cell_type": "code",
   "execution_count": null,
   "id": "762284f6-f2c0-4f99-8386-421df9969343",
   "metadata": {},
   "outputs": [],
   "source": [
    "df.dtypes"
   ]
  },
  {
   "cell_type": "code",
   "execution_count": null,
   "id": "5bde5a7e-e2e6-48fe-905a-0e0f9b900b41",
   "metadata": {},
   "outputs": [],
   "source": [
    "totalNumberOfRows = df.shape[0]\n",
    "print(f\"{totalNumberOfRows} total rows\")\n",
    "for col in df.columns:\n",
    "    if col != \"Y\":\n",
    "        xbar = df[col].mean() #mean\n",
    "        sigma = df[col].std()/np.sqrt(totalNumberOfRows) #standard deviation\n",
    "        numberOfNulls = df[df[col].isnull()].shape[0]\n",
    "        nonNullValues = list(df[~df[col].isnull()][col]) \n",
    "        fig = plt.figure()\n",
    "        plt.hist(nonNullValues)\n",
    "        print(col)\n",
    "        print(f\"{xbar}+/-{sigma}\")\n",
    "        print(f\"{numberOfNulls} number of nulls. {numberOfNulls*100/totalNumberOfRows}% is null\")\n",
    "        plt.show()"
   ]
  },
  {
   "cell_type": "code",
   "execution_count": null,
   "id": "dc5a4cc5-13a1-4468-a6c1-4049784ff56b",
   "metadata": {},
   "outputs": [],
   "source": []
  }
 ],
 "metadata": {
  "kernelspec": {
   "display_name": "Python 3 (ipykernel)",
   "language": "python",
   "name": "python3"
  },
  "language_info": {
   "codemirror_mode": {
    "name": "ipython",
    "version": 3
   },
   "file_extension": ".py",
   "mimetype": "text/x-python",
   "name": "python",
   "nbconvert_exporter": "python",
   "pygments_lexer": "ipython3",
   "version": "3.9.13"
  }
 },
 "nbformat": 4,
 "nbformat_minor": 5
}

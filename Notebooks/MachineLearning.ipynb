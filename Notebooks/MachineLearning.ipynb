{
 "cells": [
  {
   "cell_type": "code",
   "execution_count": null,
   "id": "27950b1f-6ea5-4346-8e69-c5a1659ba6bc",
   "metadata": {},
   "outputs": [],
   "source": [
    "import numpy as np\n",
    "import pandas as pd\n",
    "import matplotlib.pyplot as plt\n",
    "from os.path import exists\n",
    "import json\n",
    "import scipy.stats as stats\n",
    "import math\n",
    "from sklearn.model_selection import train_test_split\n",
    "import seaborn as sb\n",
    "from sklearn.ensemble import RandomForestClassifier as rf\n",
    "from sklearn.pipeline import make_pipeline\n",
    "from sklearn.preprocessing import StandardScaler\n",
    "import sklearn.linear_model as lm\n",
    "from sklearn.tree import DecisionTreeClassifier as tree\n",
    "from sklearn.neighbors import KNeighborsClassifier as knn\n",
    "from xgboost import XGBClassifier as xgb\n",
    "from sklearn.ensemble import VotingClassifier\n",
    "import sklearn.model_selection as ms\n",
    "import sklearn.metrics as sm\n",
    "%autosave 5"
   ]
  },
  {
   "cell_type": "code",
   "execution_count": null,
   "id": "7bbec406-14ce-4276-a917-b63a05148515",
   "metadata": {},
   "outputs": [],
   "source": [
    "def fitModelWithGridSearch(searchParams,XTrain,yTrain,modelType):\n",
    "    if modelType == 'tree':\n",
    "        gridmodel = tree(random_state=51)\n",
    "        finalmodel = tree(random_state=51)\n",
    "    elif modelType == 'forest':\n",
    "        gridmodel = rf(random_state=51)\n",
    "        finalmodel = rf(random_state=51)\n",
    "    elif modelType == 'knn':\n",
    "        gridmodel = knn()\n",
    "        finalmodel = knn()\n",
    "    elif modelType == 'xgboost':\n",
    "        gridmodel = xgb(random_state=51)\n",
    "        finalmodel = xgb(random_state=51)"
   ]
  },
  {
   "cell_type": "code",
   "execution_count": null,
   "id": "e26a436f-ad00-4883-a304-9e3f9018c311",
   "metadata": {},
   "outputs": [],
   "source": [
    "def fitTreeWithGridSearch(searchParams,XTrain,yTrain):\n",
    "    modelGridSearch = ms.GridSearchCV(tree(), param_grid=searchParams)\n",
    "    modelGridSearch.fit(XTrain,yTrain)\n",
    "    modelParams = modelGridSearch.best_params_\n",
    "    model = tree(max_depth = modelParams[\"max_depth\"],\n",
    "                max_features = modelParams[\"max_features\"])\n",
    "    model.fit(XTrain,yTrain)\n",
    "    yPredict = model.predict(XTrain)\n",
    "    return model"
   ]
  },
  {
   "cell_type": "code",
   "execution_count": null,
   "id": "1d83307c-08c4-45f9-b042-c94955cd87f5",
   "metadata": {
    "tags": []
   },
   "outputs": [],
   "source": [
    "def fitForestWithGridSearch(searchParams,XTrain,yTrain):\n",
    "    modelGridSearch = ms.GridSearchCV(rf(random_state=51), param_grid=searchParams)\n",
    "    modelGridSearch.fit(XTrain,yTrain)\n",
    "    modelParams = modelGridSearch.best_params_\n",
    "    model = rf(n_estimators = modelParams[\"n_estimators\"],\n",
    "                max_depth = modelParams[\"max_depth\"],\n",
    "                max_features = modelParams[\"max_features\"])\n",
    "    model.fit(XTrain,yTrain)\n",
    "    yPredict = model.predict(XTrain)\n",
    "    return model"
   ]
  },
  {
   "cell_type": "code",
   "execution_count": null,
   "id": "01bb2f7f-cc7c-40d5-b5dc-c655cbc9dc02",
   "metadata": {},
   "outputs": [],
   "source": [
    "def makeData():\n",
    "    df = pd.read_csv(\"../Data/Raw/ACME-HappinessSurvey2020.csv\")\n",
    "    y = df[[\"Y\"]]\n",
    "    X = df.drop(\"Y\",axis=1)\n",
    "    XTrain,XTest,yTrain,yTest = train_test_split(X, y, test_size=0.15,random_state=51)\n",
    "    happinessTrain = XTrain.copy()\n",
    "    happinessTrain['Y'] = yTrain\n",
    "    happinessTrain.to_csv('../Data/happinessTrain.csv',index=False)\n",
    "    happinessTest = XTest.copy()\n",
    "    happinessTest['Y'] = yTest\n",
    "    happinessTest.to_csv('../Data/happinessTest.csv',index=False)\n",
    "    yTrain = yTrain.values.ravel()\n",
    "    yTest = yTest.values.ravel()\n",
    "    return XTrain,XTest,yTrain,yTest"
   ]
  },
  {
   "cell_type": "code",
   "execution_count": null,
   "id": "793a6617-9a69-4465-89a9-fd13da90ae09",
   "metadata": {},
   "outputs": [],
   "source": [
    "def loadData():\n",
    "    if exists(\"../Data/happinessTrain.csv\"):\n",
    "        happinessTrain = pd.read_csv(\"../Data/Processed/happinessTrain.csv\")\n",
    "        happinessTest = pd.read_csv(\"../Data/Processed/happinessTest.csv\")\n",
    "        yTrain = happinessTrain[[\"Y\"]].values.ravel()\n",
    "        XTrain = happinessTrain.drop(\"Y\",axis=1)\n",
    "        yTest = happinessTest[[\"Y\"]].values.ravel()\n",
    "        XTest = happinessTest.drop(\"Y\",axis=1)\n",
    "    else:\n",
    "        XTrain,XTest,yTrain,yTest = makeData()\n",
    "    return XTrain,XTest,yTrain,yTest"
   ]
  },
  {
   "cell_type": "code",
   "execution_count": null,
   "id": "102d533b-5c0b-4b6b-8a6b-4cd861a3a7d8",
   "metadata": {},
   "outputs": [],
   "source": [
    "def main():\n",
    "    np.random.seed(51)\n",
    "    XTrain,XTest,yTrain,yTest = loadData()\n",
    "    \n",
    "    initialTreeParams = {\n",
    "        \"max_depth\":[2,3,4],\n",
    "        \"max_features\":[2,3,4]\n",
    "    }\n",
    "    searchParams4 = {\n",
    "        \"n_estimators\": [100,200,300],\n",
    "        \"max_depth\":[2,3,4],\n",
    "        \"max_features\":[2,3,4]\n",
    "    }\n",
    "    \n",
    "    "
   ]
  },
  {
   "cell_type": "code",
   "execution_count": null,
   "id": "ced99521-da8b-4e36-9eeb-2b590e59a376",
   "metadata": {},
   "outputs": [],
   "source": [
    "main()"
   ]
  },
  {
   "cell_type": "markdown",
   "id": "9b1af6af-37bc-4d5a-8d0e-fcc81c156402",
   "metadata": {},
   "source": [
    "# Attempt 4: Voting Classifier with Standard Scalar Logistic Regression, best tree, and best forest"
   ]
  },
  {
   "cell_type": "code",
   "execution_count": null,
   "id": "f24e588f-1446-47ca-9ce6-f904585e50d1",
   "metadata": {},
   "outputs": [],
   "source": [
    "initialTreeParams = {\n",
    "    \"max_depth\":[2,3,4],\n",
    "    \"max_features\":[2,3,4]\n",
    "}\n",
    "searchParams4 = {\n",
    "    \"n_estimators\": [100,200,300],\n",
    "    \"max_depth\":[2,3,4],\n",
    "    \"max_features\":[2,3,4]\n",
    "}\n",
    "\n",
    "logModel = lm.LogisticRegression(max_iter=1e9)\n",
    "logPipe = make_pipeline(StandardScaler(), logModel)\n",
    "\n",
    "treeGridSearch = ms.GridSearchCV(tree(), param_grid=initialTreeParams)\n",
    "treeGridSearch.fit(XTrain,yTrain)\n",
    "treeParams4 = treeGridSearch.best_params_\n",
    "print(f\"treeParams: {treeParams4}\")\n",
    "tree4 = tree(max_depth = treeParams4[\"max_depth\"],\n",
    "             max_features = treeParams4[\"max_features\"])\n",
    "\n",
    "forestGridSearch4 = ms.GridSearchCV(rf(), param_grid=searchParams4)\n",
    "forestGridSearch4.fit(XTrain,yTrain)\n",
    "forestParams4 = forestGridSearch4.best_params_\n",
    "print(f\"forestParams: {forestParams4}\")\n",
    "forest4 = rf(n_estimators = forestParams4[\"n_estimators\"],\n",
    "             max_depth = forestParams4[\"max_depth\"],\n",
    "             max_features = forestParams4[\"max_features\"])\n",
    "\n",
    "ensembleVote = VotingClassifier(\n",
    "    estimators = [\n",
    "        (\"logModel\",logPipe),\n",
    "        (\"tree\",tree4),\n",
    "        (\"forest\",forest4)\n",
    "    ]\n",
    ")\n",
    "\n",
    "ensembleVote.fit(XTrain,yTrain)\n",
    "ensembleDecision = ensembleVote.predict(XTrain)\n",
    "print(f\"Training Score {sm.accuracy_score(yTrain,ensembleDecision)}\")"
   ]
  },
  {
   "cell_type": "markdown",
   "id": "888186ff-efbf-4236-b8d0-6e9538239118",
   "metadata": {},
   "source": [
    "# Attempt 5: Adding alternative tree and alternative forest to classifier"
   ]
  },
  {
   "cell_type": "code",
   "execution_count": null,
   "id": "2d75d34e-a97d-4276-bd76-56cc36ba5dfb",
   "metadata": {},
   "outputs": [],
   "source": [
    "treeParams5 = {\n",
    "    \"max_depth\": [d for d in initialTreeParams[\"max_depth\"] if d != treeParams4[\"max_depth\"]],\n",
    "    \"max_features\":[f for f in initialTreeParams[\"max_features\"] if f != treeParams4[\"max_features\"]]\n",
    "}\n",
    "\n",
    "searchParams5 = {\n",
    "    \"n_estimators\": [n  for n in searchParams4[\"n_estimators\"] if n != forestParams4[\"n_estimators\"]],\n",
    "    \"max_depth\":[d for d in searchParams4[\"max_depth\"] if d != forestParams4[\"max_depth\"]],\n",
    "    \"max_features\":[f for f in searchParams4[\"max_features\"] if f != forestParams4[\"max_features\"]]\n",
    "}\n",
    "\n",
    "tree5 = util.fitTreeWithGridSearch(treeParams5,XTrain,yTrain)\n",
    "\n",
    "forest5 = util.fitForestWithGridSearch(searchParams5,XTrain,yTrain)\n",
    "\n",
    "ensembleVote = VotingClassifier(\n",
    "    estimators = [\n",
    "        (\"logModel\",logPipe),\n",
    "        (\"tree4\",tree4),\n",
    "        (\"forest4\",forest4),\n",
    "        (\"tree5\",tree5),\n",
    "        (\"forest5\",forest5)\n",
    "    ]\n",
    ")\n",
    "\n",
    "ensembleVote.fit(XTrain,yTrain)\n",
    "ensembleDecision = ensembleVote.predict(XTrain)\n",
    "print(f\"Training Score {sm.accuracy_score(yTrain,ensembleDecision)}\")"
   ]
  },
  {
   "cell_type": "markdown",
   "id": "318789c6-6049-4938-b90d-49787ff64740",
   "metadata": {
    "tags": []
   },
   "source": [
    "## Validating model 5 with the test set."
   ]
  },
  {
   "cell_type": "code",
   "execution_count": null,
   "id": "cb606cea-4013-494a-9c1d-0bdacfb1f382",
   "metadata": {},
   "outputs": [],
   "source": [
    "yPredictTest = ensembleVote.predict(XTest)\n",
    "print(f\"Testing Score {sm.accuracy_score(yTest,yPredictTest)}\")"
   ]
  },
  {
   "cell_type": "code",
   "execution_count": null,
   "id": "ee7aec42-d776-44bd-bdca-7ba1a5b3f8bc",
   "metadata": {},
   "outputs": [],
   "source": []
  }
 ],
 "metadata": {
  "kernelspec": {
   "display_name": "Python 3 (ipykernel)",
   "language": "python",
   "name": "python3"
  },
  "language_info": {
   "codemirror_mode": {
    "name": "ipython",
    "version": 3
   },
   "file_extension": ".py",
   "mimetype": "text/x-python",
   "name": "python",
   "nbconvert_exporter": "python",
   "pygments_lexer": "ipython3",
   "version": "3.9.13"
  }
 },
 "nbformat": 4,
 "nbformat_minor": 5
}

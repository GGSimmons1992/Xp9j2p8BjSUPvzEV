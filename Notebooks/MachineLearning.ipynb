{
 "cells": [
  {
   "cell_type": "code",
   "execution_count": null,
   "id": "27950b1f-6ea5-4346-8e69-c5a1659ba6bc",
   "metadata": {},
   "outputs": [],
   "source": [
    "import numpy as np\n",
    "import pandas as pd\n",
    "import matplotlib.pyplot as plt\n",
    "from os.path import exists\n",
    "import json\n",
    "import scipy.stats as stats\n",
    "import math\n",
    "from sklearn.model_selection import train_test_split\n",
    "import seaborn as sb\n",
    "from sklearn.ensemble import RandomForestClassifier as rf\n",
    "import sklearn.model_selection as ms\n",
    "import sklearn.metrics as sm\n",
    "import sys\n",
    "sys.path.insert(0, \"../src/\")\n",
    "import util as util\n",
    "%autosave 5"
   ]
  },
  {
   "cell_type": "code",
   "execution_count": null,
   "id": "abadccaa-caf4-4079-abba-7ff9faf0feb9",
   "metadata": {},
   "outputs": [],
   "source": [
    "np.random.seed(51)"
   ]
  },
  {
   "cell_type": "code",
   "execution_count": null,
   "id": "96708d29-042b-443a-a1cd-7337a4ca6c9b",
   "metadata": {},
   "outputs": [],
   "source": [
    "df = pd.read_csv(\"../Data/Raw/ACME-HappinessSurvey2020.csv\")\n",
    "\n",
    "if exists(\"../Data/happinessTrain.csv\"):\n",
    "    happinessTrain = pd.read_csv(\"../Data/Processed/happinessTrain.csv\")\n",
    "    happinessTest = pd.read_csv(\"../Data/Processed/happinessTest.csv\")\n",
    "    yTrain = happinessTrain[[\"Y\"]].values.ravel()\n",
    "    XTrain = happinessTrain.drop(\"Y\",axis=1)\n",
    "    yTest = happinessTest[[\"Y\"]].values.ravel()\n",
    "    XTest = happinessTest.drop(\"Y\",axis=1)\n",
    "else:\n",
    "    y = df[[\"Y\"]]\n",
    "    X = df.drop(\"Y\",axis=1)\n",
    "    XTrain,XTest,yTrain,yTest = train_test_split(X, y, test_size=0.15,random_state=51)\n",
    "    happinessTrain = XTrain.copy()\n",
    "    happinessTrain['Y'] = yTrain\n",
    "    happinessTrain.to_csv('../Data/happinessTrain.csv',index=False)\n",
    "    happinessTest = XTest.copy()\n",
    "    happinessTest['Y'] = yTest\n",
    "    happinessTest.to_csv('../Data/happinessTest.csv',index=False)\n",
    "    yTrain = yTrain.values.ravel()\n",
    "    yTest = yTest.values.ravel()"
   ]
  },
  {
   "cell_type": "markdown",
   "id": "e7336331-76ba-4f17-9d80-d95a6f0100d7",
   "metadata": {},
   "source": [
    "# Attempt 1: Using a broad search param"
   ]
  },
  {
   "cell_type": "code",
   "execution_count": null,
   "id": "f579ac44-0c9c-4939-a5a7-79cdd6f144a0",
   "metadata": {},
   "outputs": [],
   "source": [
    "midpoint = int(round((2 + XTrain.shape[1])/2))\n",
    "searchParams = {\n",
    "    \"n_estimators\": [100,200,300],\n",
    "    \"max_depth\":[2,midpoint,XTrain.shape[1]],\n",
    "    \"max_features\":[2,midpoint,XTrain.shape[1]]\n",
    "}\n"
   ]
  },
  {
   "cell_type": "code",
   "execution_count": null,
   "id": "adcc573a-d61b-4677-a9ac-071a14898847",
   "metadata": {},
   "outputs": [],
   "source": [
    "model = rf()\n",
    "modelGridSearch = ms.GridSearchCV(model, param_grid=searchParams)\n",
    "modelGridSearch.fit(XTrain,yTrain)\n",
    "modelParams1 = modelGridSearch.best_params_\n",
    "print(modelParams1)\n",
    "model1 = rf(n_estimators = modelParams1[\"n_estimators\"],\n",
    "                max_depth = modelParams1[\"max_depth\"],\n",
    "                max_features = modelParams1[\"max_features\"])\n",
    "model1.fit(XTrain,yTrain)\n",
    "yPredict = model1.predict(XTrain)\n",
    "print(f\"Training Score {sm.accuracy_score(yTrain,yPredict)}\")"
   ]
  },
  {
   "cell_type": "markdown",
   "id": "f303b243-4d97-4b8d-9ed0-e671f3c9808f",
   "metadata": {
    "tags": []
   },
   "source": [
    "## Validating model 1 with the test set."
   ]
  },
  {
   "cell_type": "code",
   "execution_count": null,
   "id": "d7610564-b82a-4a28-a3df-986009d882f3",
   "metadata": {},
   "outputs": [],
   "source": [
    "yPredictTest = model1.predict(XTest)\n",
    "print(f\"Testing Score {sm.accuracy_score(yTest,yPredictTest)}\")"
   ]
  },
  {
   "cell_type": "markdown",
   "id": "8f923ede-c6de-4373-acbb-024af2a1d02a",
   "metadata": {},
   "source": [
    "# Attempt 2: Refined search"
   ]
  },
  {
   "cell_type": "code",
   "execution_count": null,
   "id": "2648139b-b3cf-4174-ab25-c96a9ca823bd",
   "metadata": {},
   "outputs": [],
   "source": [
    "print(midpoint)"
   ]
  },
  {
   "cell_type": "code",
   "execution_count": null,
   "id": "ba7d295a-1763-4d83-9500-65676cd4c4d7",
   "metadata": {},
   "outputs": [],
   "source": [
    "searchParams2 = {\n",
    "    \"n_estimators\": [50,100,150,200],\n",
    "    \"max_depth\":[2,3,4],\n",
    "    \"max_features\":[2,3,4]\n",
    "}\n",
    "\n",
    "modelGridSearch2 = ms.GridSearchCV(rf(), param_grid=searchParams2)\n",
    "modelGridSearch2.fit(XTrain,yTrain)\n",
    "modelParams2 = modelGridSearch2.best_params_\n",
    "print(modelParams2)\n",
    "model2 = rf(n_estimators = modelParams2[\"n_estimators\"],\n",
    "                max_depth = modelParams2[\"max_depth\"],\n",
    "                max_features = modelParams2[\"max_features\"])\n",
    "model2.fit(XTrain,yTrain)\n",
    "yPredict = model2.predict(XTrain)\n",
    "print(f\"Training Score {sm.accuracy_score(yTrain,yPredict)}\")"
   ]
  },
  {
   "cell_type": "markdown",
   "id": "74099870-4400-4fc7-8b4a-6d1d68b9b2fe",
   "metadata": {
    "tags": []
   },
   "source": [
    "## Validating model 2 with the test set."
   ]
  },
  {
   "cell_type": "code",
   "execution_count": null,
   "id": "3fb8a758-3c95-46ae-9b23-42ba6265b0de",
   "metadata": {},
   "outputs": [],
   "source": [
    "yPredictTest = model2.predict(XTest)\n",
    "print(f\"Testing Score {sm.accuracy_score(yTest,yPredictTest)}\")"
   ]
  },
  {
   "cell_type": "markdown",
   "id": "d8510aff-83c8-434e-9dcc-76969b09a2ef",
   "metadata": {
    "tags": []
   },
   "source": [
    "# Attempt 3"
   ]
  },
  {
   "cell_type": "code",
   "execution_count": null,
   "id": "3b94db67-7dd1-4934-a6ca-f6b9d78ecf73",
   "metadata": {},
   "outputs": [],
   "source": [
    "searchParams3 = {\n",
    "    \"n_estimators\": [25,50,75,100,125,150,175,200,225],\n",
    "    \"max_depth\":[2,3,4,5,6],\n",
    "    \"max_features\":[2,3,4,5,6]\n",
    "}\n",
    "\n",
    "model3 = util.fitWithGridSearch(searchParams3,XTrain,yTrain)"
   ]
  },
  {
   "cell_type": "markdown",
   "id": "55537e03-a4a5-4c1a-87d7-d48da11ace1e",
   "metadata": {},
   "source": [
    "## Validating model 3 with test set."
   ]
  },
  {
   "cell_type": "code",
   "execution_count": null,
   "id": "71b84977-7806-464f-a992-bd853006fec4",
   "metadata": {},
   "outputs": [],
   "source": [
    "yPredictTest = model3.predict(XTest)\n",
    "print(f\"Training Score {sm.accuracy_score(yTest,yPredictTest)}\")"
   ]
  },
  {
   "cell_type": "code",
   "execution_count": null,
   "id": "72fd2115-c662-4e30-ae25-99659705cd4d",
   "metadata": {},
   "outputs": [],
   "source": [
    "util.displayFeatureImportances(list(XTest.columns),model3,\"Model V3\")"
   ]
  }
 ],
 "metadata": {
  "kernelspec": {
   "display_name": "Python 3 (ipykernel)",
   "language": "python",
   "name": "python3"
  },
  "language_info": {
   "codemirror_mode": {
    "name": "ipython",
    "version": 3
   },
   "file_extension": ".py",
   "mimetype": "text/x-python",
   "name": "python",
   "nbconvert_exporter": "python",
   "pygments_lexer": "ipython3",
   "version": "3.9.13"
  }
 },
 "nbformat": 4,
 "nbformat_minor": 5
}

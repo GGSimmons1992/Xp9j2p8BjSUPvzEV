{
 "cells": [
  {
   "cell_type": "code",
   "execution_count": null,
   "id": "27950b1f-6ea5-4346-8e69-c5a1659ba6bc",
   "metadata": {},
   "outputs": [],
   "source": [
    "import numpy as np\n",
    "import pandas as pd\n",
    "import matplotlib.pyplot as plt\n",
    "from os.path import exists\n",
    "import json\n",
    "import scipy.stats as stats\n",
    "import math\n",
    "from sklearn.model_selection import train_test_split\n",
    "import seaborn as sb\n",
    "from sklearn.ensemble import RandomForestClassifier as rf\n",
    "from sklearn.pipeline import make_pipeline\n",
    "from sklearn.preprocessing import StandardScaler\n",
    "import sklearn.linear_model as lm\n",
    "from sklearn.tree import DecisionTreeClassifier as tree\n",
    "from sklearn.ensemble import VotingClassifier\n",
    "import sklearn.model_selection as ms\n",
    "import sklearn.metrics as sm\n",
    "import sys\n",
    "sys.path.insert(0, \"../src/\")\n",
    "import util as util\n",
    "%autosave 5"
   ]
  },
  {
   "cell_type": "code",
   "execution_count": null,
   "id": "abadccaa-caf4-4079-abba-7ff9faf0feb9",
   "metadata": {},
   "outputs": [],
   "source": [
    "np.random.seed(51)"
   ]
  },
  {
   "cell_type": "code",
   "execution_count": null,
   "id": "96708d29-042b-443a-a1cd-7337a4ca6c9b",
   "metadata": {},
   "outputs": [],
   "source": [
    "df = pd.read_csv(\"../Data/Raw/ACME-HappinessSurvey2020.csv\")\n",
    "\n",
    "if exists(\"../Data/happinessTrain.csv\"):\n",
    "    happinessTrain = pd.read_csv(\"../Data/Processed/happinessTrain.csv\")\n",
    "    happinessTest = pd.read_csv(\"../Data/Processed/happinessTest.csv\")\n",
    "    yTrain = happinessTrain[[\"Y\"]].values.ravel()\n",
    "    XTrain = happinessTrain.drop(\"Y\",axis=1)\n",
    "    yTest = happinessTest[[\"Y\"]].values.ravel()\n",
    "    XTest = happinessTest.drop(\"Y\",axis=1)\n",
    "else:\n",
    "    y = df[[\"Y\"]]\n",
    "    X = df.drop(\"Y\",axis=1)\n",
    "    XTrain,XTest,yTrain,yTest = train_test_split(X, y, test_size=0.15,random_state=51)\n",
    "    happinessTrain = XTrain.copy()\n",
    "    happinessTrain['Y'] = yTrain\n",
    "    happinessTrain.to_csv('../Data/happinessTrain.csv',index=False)\n",
    "    happinessTest = XTest.copy()\n",
    "    happinessTest['Y'] = yTest\n",
    "    happinessTest.to_csv('../Data/happinessTest.csv',index=False)\n",
    "    yTrain = yTrain.values.ravel()\n",
    "    yTest = yTest.values.ravel()"
   ]
  },
  {
   "cell_type": "markdown",
   "id": "e7336331-76ba-4f17-9d80-d95a6f0100d7",
   "metadata": {},
   "source": [
    "# Attempt 1: Using a broad search param"
   ]
  },
  {
   "cell_type": "code",
   "execution_count": null,
   "id": "f579ac44-0c9c-4939-a5a7-79cdd6f144a0",
   "metadata": {},
   "outputs": [],
   "source": [
    "midpoint = int(round((2 + XTrain.shape[1])/2))\n",
    "searchParams = {\n",
    "    \"n_estimators\": [100,200,300],\n",
    "    \"max_depth\":[2,midpoint,XTrain.shape[1]],\n",
    "    \"max_features\":[2,midpoint,XTrain.shape[1]]\n",
    "}\n"
   ]
  },
  {
   "cell_type": "code",
   "execution_count": null,
   "id": "adcc573a-d61b-4677-a9ac-071a14898847",
   "metadata": {},
   "outputs": [],
   "source": [
    "model = rf()\n",
    "modelGridSearch = ms.GridSearchCV(model, param_grid=searchParams)\n",
    "modelGridSearch.fit(XTrain,yTrain)\n",
    "modelParams1 = modelGridSearch.best_params_\n",
    "print(modelParams1)\n",
    "model1 = rf(n_estimators = modelParams1[\"n_estimators\"],\n",
    "                max_depth = modelParams1[\"max_depth\"],\n",
    "                max_features = modelParams1[\"max_features\"])\n",
    "model1.fit(XTrain,yTrain)\n",
    "yPredict = model1.predict(XTrain)\n",
    "print(f\"Training Score {sm.accuracy_score(yTrain,yPredict)}\")"
   ]
  },
  {
   "cell_type": "markdown",
   "id": "f303b243-4d97-4b8d-9ed0-e671f3c9808f",
   "metadata": {
    "tags": []
   },
   "source": [
    "## Validating model 1 with the test set."
   ]
  },
  {
   "cell_type": "code",
   "execution_count": null,
   "id": "d7610564-b82a-4a28-a3df-986009d882f3",
   "metadata": {},
   "outputs": [],
   "source": [
    "yPredictTest = model1.predict(XTest)\n",
    "print(f\"Testing Score {sm.accuracy_score(yTest,yPredictTest)}\")"
   ]
  },
  {
   "cell_type": "markdown",
   "id": "8f923ede-c6de-4373-acbb-024af2a1d02a",
   "metadata": {},
   "source": [
    "# Attempt 2: Refined search"
   ]
  },
  {
   "cell_type": "code",
   "execution_count": null,
   "id": "2648139b-b3cf-4174-ab25-c96a9ca823bd",
   "metadata": {},
   "outputs": [],
   "source": [
    "print(midpoint)"
   ]
  },
  {
   "cell_type": "code",
   "execution_count": null,
   "id": "ba7d295a-1763-4d83-9500-65676cd4c4d7",
   "metadata": {},
   "outputs": [],
   "source": [
    "searchParams2 = {\n",
    "    \"n_estimators\": [50,100,150,200],\n",
    "    \"max_depth\":[2,3,4],\n",
    "    \"max_features\":[2,3,4]\n",
    "}\n",
    "\n",
    "modelGridSearch2 = ms.GridSearchCV(rf(), param_grid=searchParams2)\n",
    "modelGridSearch2.fit(XTrain,yTrain)\n",
    "modelParams2 = modelGridSearch2.best_params_\n",
    "print(modelParams2)\n",
    "model2 = rf(n_estimators = modelParams2[\"n_estimators\"],\n",
    "                max_depth = modelParams2[\"max_depth\"],\n",
    "                max_features = modelParams2[\"max_features\"])\n",
    "model2.fit(XTrain,yTrain)\n",
    "yPredict = model2.predict(XTrain)\n",
    "print(f\"Training Score {sm.accuracy_score(yTrain,yPredict)}\")"
   ]
  },
  {
   "cell_type": "markdown",
   "id": "74099870-4400-4fc7-8b4a-6d1d68b9b2fe",
   "metadata": {
    "tags": []
   },
   "source": [
    "## Validating model 2 with the test set."
   ]
  },
  {
   "cell_type": "code",
   "execution_count": null,
   "id": "3fb8a758-3c95-46ae-9b23-42ba6265b0de",
   "metadata": {},
   "outputs": [],
   "source": [
    "yPredictTest = model2.predict(XTest)\n",
    "print(f\"Testing Score {sm.accuracy_score(yTest,yPredictTest)}\")"
   ]
  },
  {
   "cell_type": "markdown",
   "id": "d8510aff-83c8-434e-9dcc-76969b09a2ef",
   "metadata": {
    "tags": []
   },
   "source": [
    "# Attempt 3"
   ]
  },
  {
   "cell_type": "code",
   "execution_count": null,
   "id": "3b94db67-7dd1-4934-a6ca-f6b9d78ecf73",
   "metadata": {},
   "outputs": [],
   "source": [
    "#Took too long, and is still incorrect.\n",
    "\"\"\"\n",
    "searchParams3 = {\n",
    "    \"n_estimators\": [25,50,75,100,125,150,175,200,225],\n",
    "    \"max_depth\":[2,3,4,5,6],\n",
    "    \"max_features\":[2,3,4,5,6]\n",
    "}\n",
    "\n",
    "model3 = util.fitWithGridSearch(searchParams3,XTrain,yTrain)\n",
    "\"\"\""
   ]
  },
  {
   "cell_type": "markdown",
   "id": "55537e03-a4a5-4c1a-87d7-d48da11ace1e",
   "metadata": {},
   "source": [
    "## Validating model 3 with test set."
   ]
  },
  {
   "cell_type": "code",
   "execution_count": null,
   "id": "71b84977-7806-464f-a992-bd853006fec4",
   "metadata": {},
   "outputs": [],
   "source": [
    "#Not doing because it took too long, and is incorrect\n",
    "\"\"\"\n",
    "yPredictTest = model3.predict(XTest)\n",
    "print(f\"Training Score {sm.accuracy_score(yTest,yPredictTest)}\")\n",
    "\"\"\""
   ]
  },
  {
   "cell_type": "markdown",
   "id": "9b1af6af-37bc-4d5a-8d0e-fcc81c156402",
   "metadata": {},
   "source": [
    "# Attempt 4: Voting Classifier with Standard Scalar Logistic Regression, best tree, and best forest"
   ]
  },
  {
   "cell_type": "code",
   "execution_count": null,
   "id": "f24e588f-1446-47ca-9ce6-f904585e50d1",
   "metadata": {},
   "outputs": [],
   "source": [
    "initialTreeParams = {\n",
    "    \"max_depth\":[2,3,4],\n",
    "    \"max_features\":[2,3,4]\n",
    "}\n",
    "searchParams4 = {\n",
    "    \"n_estimators\": [100,200,300],\n",
    "    \"max_depth\":[2,3,4],\n",
    "    \"max_features\":[2,3,4]\n",
    "}\n",
    "\n",
    "logModel = lm.LogisticRegression(max_iter=1e9)\n",
    "logPipe = make_pipeline(StandardScaler(), logModel)\n",
    "\n",
    "treeGridSearch = ms.GridSearchCV(tree(), param_grid=initialTreeParams)\n",
    "treeGridSearch.fit(XTrain,yTrain)\n",
    "treeParams4 = treeGridSearch.best_params_\n",
    "print(f\"treeParams: {treeParams4}\")\n",
    "tree4 = tree(max_depth = treeParams4[\"max_depth\"],\n",
    "             max_features = treeParams4[\"max_features\"])\n",
    "\n",
    "forestGridSearch4 = ms.GridSearchCV(rf(), param_grid=searchParams4)\n",
    "forestGridSearch4.fit(XTrain,yTrain)\n",
    "forestParams4 = forestGridSearch4.best_params_\n",
    "print(f\"forestParams: {forestParams4}\")\n",
    "forest4 = rf(n_estimators = forestParams4[\"n_estimators\"],\n",
    "             max_depth = forestParams4[\"max_depth\"],\n",
    "             max_features = forestParams4[\"max_features\"])\n",
    "\n",
    "ensembleVote = VotingClassifier(\n",
    "    estimators = [\n",
    "        (\"logModel\",logPipe),\n",
    "        (\"tree\",tree4),\n",
    "        (\"forest\",forest4)\n",
    "    ]\n",
    ")\n",
    "\n",
    "ensembleVote.fit(XTrain,yTrain)\n",
    "ensembleDecision = ensembleVote.predict(XTrain)\n",
    "print(f\"Training Score {sm.accuracy_score(yTrain,ensembleDecision)}\")"
   ]
  },
  {
   "cell_type": "markdown",
   "id": "888186ff-efbf-4236-b8d0-6e9538239118",
   "metadata": {},
   "source": [
    "# Attempt 5: Adding alternative tree and alternative forest to classifier"
   ]
  },
  {
   "cell_type": "code",
   "execution_count": null,
   "id": "2d75d34e-a97d-4276-bd76-56cc36ba5dfb",
   "metadata": {},
   "outputs": [],
   "source": [
    "treeParams5 = {\n",
    "    \"max_depth\": [d for d in initialTreeParams[\"max_depth\"] if d != treeParams4[\"max_depth\"]],\n",
    "    \"max_features\":[f for f in initialTreeParams[\"max_features\"] if f != treeParams4[\"max_features\"]]\n",
    "}\n",
    "\n",
    "searchParams5 = {\n",
    "    \"n_estimators\": [n  for n in searchParams4[\"n_estimators\"] if n != forestParams4[\"n_estimators\"]],\n",
    "    \"max_depth\":[d for d in searchParams4[\"max_depth\"] if d != forestParams4[\"max_depth\"]],\n",
    "    \"max_features\":[f for f in searchParams4[\"max_features\"] if f != forestParams4[\"max_features\"]]\n",
    "}\n",
    "\n",
    "tree5 = util.fitTreeWithGridSearch(treeParams5,XTrain,yTrain)\n",
    "\n",
    "forest5 = util.fitForestWithGridSearch(searchParams5,XTrain,yTrain)\n",
    "\n",
    "ensembleVote = VotingClassifier(\n",
    "    estimators = [\n",
    "        (\"logModel\",logPipe),\n",
    "        (\"tree4\",tree4),\n",
    "        (\"forest4\",forest4),\n",
    "        (\"tree5\",tree5),\n",
    "        (\"forest5\",forest5)\n",
    "    ]\n",
    ")\n",
    "\n",
    "ensembleVote.fit(XTrain,yTrain)\n",
    "ensembleDecision = ensembleVote.predict(XTrain)\n",
    "print(f\"Training Score {sm.accuracy_score(yTrain,ensembleDecision)}\")"
   ]
  },
  {
   "cell_type": "markdown",
   "id": "318789c6-6049-4938-b90d-49787ff64740",
   "metadata": {
    "tags": []
   },
   "source": [
    "## Validating model 5 with the test set."
   ]
  },
  {
   "cell_type": "code",
   "execution_count": null,
   "id": "cb606cea-4013-494a-9c1d-0bdacfb1f382",
   "metadata": {},
   "outputs": [],
   "source": [
    "yPredictTest = ensembleVote.predict(XTest)\n",
    "print(f\"Testing Score {sm.accuracy_score(yTest,yPredictTest)}\")"
   ]
  },
  {
   "cell_type": "code",
   "execution_count": null,
   "id": "ee7aec42-d776-44bd-bdca-7ba1a5b3f8bc",
   "metadata": {},
   "outputs": [],
   "source": []
  }
 ],
 "metadata": {
  "kernelspec": {
   "display_name": "Python 3 (ipykernel)",
   "language": "python",
   "name": "python3"
  },
  "language_info": {
   "codemirror_mode": {
    "name": "ipython",
    "version": 3
   },
   "file_extension": ".py",
   "mimetype": "text/x-python",
   "name": "python",
   "nbconvert_exporter": "python",
   "pygments_lexer": "ipython3",
   "version": "3.9.13"
  }
 },
 "nbformat": 4,
 "nbformat_minor": 5
}

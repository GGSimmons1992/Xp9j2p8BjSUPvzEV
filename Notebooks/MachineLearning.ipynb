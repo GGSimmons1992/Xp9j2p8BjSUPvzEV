{
 "cells": [
  {
   "cell_type": "code",
   "execution_count": null,
   "id": "27950b1f-6ea5-4346-8e69-c5a1659ba6bc",
   "metadata": {},
   "outputs": [],
   "source": [
    "import numpy as np\n",
    "import pandas as pd\n",
    "import matplotlib.pyplot as plt\n",
    "from os.path import exists\n",
    "import json\n",
    "import scipy.stats as stats\n",
    "import math\n",
    "import sklearn.linear_model as lm\n",
    "import seaborn as sb\n",
    "from sklearn.ensemble import RandomForestClassifier as rf\n",
    "import sklearn.model_selection as ms\n",
    "\"\"\"\n",
    "import sys\n",
    "sys.path.insert(0, \"../src/\")\n",
    "import util as util\n",
    "\"\"\"\n",
    "%autosave 5"
   ]
  },
  {
   "cell_type": "code",
   "execution_count": null,
   "id": "96708d29-042b-443a-a1cd-7337a4ca6c9b",
   "metadata": {},
   "outputs": [],
   "source": [
    "df = pd.read_csv(\"../Data/ACME-HappinessSurvey2020.csv\")\n",
    "\n",
    "if exists(\"../Data/happinessTrain.csv\"):\n",
    "    happinessTrain = pd.read_csv(\"../Data/happinessTrain.csv\")\n",
    "    happinessTest = pd.read_csv(\"../Data/happinessTest.csv\")\n",
    "    yTrain = happinessTrain[\"Y\"]\n",
    "    XTrain = happinessTrain.drop(\"Y\",axis=1)\n",
    "    yTest = happinessTest[\"Y\"]\n",
    "    XTest = happinessTest.drop(\"Y\",axis=1)\n",
    "else:\n",
    "    y = df[\"Y\"]\n",
    "    X = df.drop(\"Y\",axis=1)\n",
    "    XTrain,XTest,yTrain,yTest = train_test_split(X, y, test_size=0.2)\n",
    "    happinessTrain = XTrain.copy()\n",
    "    happinessTrain['Y'] = yTrain\n",
    "    happinessTrain.to_csv('../Data/happinessTrain.csv',index=False)\n",
    "    happinessTest = XTest.copy()\n",
    "    happinessTest['Y'] = yTest\n",
    "    happinessTest..to_csv('../Data/happinessTest.csv',index=False)"
   ]
  },
  {
   "cell_type": "code",
   "execution_count": null,
   "id": "f579ac44-0c9c-4939-a5a7-79cdd6f144a0",
   "metadata": {},
   "outputs": [],
   "source": [
    "sqrtn = int(np.sqrt(X.shape[0]))\n",
    "sqrtfeatures = int(np.sqrt(X.shape[1]))\n",
    "log2features = int(np.log2(X.shape[1]))\n",
    "geometricTerms = sorted([np.sqrt(X.shape[1]),np.log2(X.shape[1])])\n",
    "thirdGeometricTerm = int(geometricTerms[1] * (geometricTerms[1]/geometricTerms[0]))\n",
    "print(f\"sqrt(nFeatures) ~ {sqrtfeatures}\")\n",
    "    print(f\"log2(nFeatures) ~ {log2features}\")\n",
    "    print(f\"thirdGeometricTerm ~ {thirdGeometricTerm}\")\n",
    "searchParams = {\n",
    "        \"criterion\": [\"gini\",\"entropy\",\"log_loss\"],\n",
    "        \"n_estimators\": [100,200,300],\n",
    "        \"max_depth\":[sqrtfeatures,log2features,thirdGeometricTerm],\n",
    "        \"max_features\":[sqrtfeatures,log2features,thirdGeometricTerm]\n",
    "    }\n"
   ]
  },
  {
   "cell_type": "code",
   "execution_count": null,
   "id": "adcc573a-d61b-4677-a9ac-071a14898847",
   "metadata": {},
   "outputs": [],
   "source": [
    "model = rf()\n",
    "modelGridSearch = ms.GridSearchCV(model, param_grid=searchParams)\n",
    "modelGridSearch(XTrain,yTrain)\n",
    "finalParams = modelGridSearch.best_params_"
   ]
  }
 ],
 "metadata": {
  "kernelspec": {
   "display_name": "Python 3 (ipykernel)",
   "language": "python",
   "name": "python3"
  },
  "language_info": {
   "codemirror_mode": {
    "name": "ipython",
    "version": 3
   },
   "file_extension": ".py",
   "mimetype": "text/x-python",
   "name": "python",
   "nbconvert_exporter": "python",
   "pygments_lexer": "ipython3",
   "version": "3.9.13"
  }
 },
 "nbformat": 4,
 "nbformat_minor": 5
}
